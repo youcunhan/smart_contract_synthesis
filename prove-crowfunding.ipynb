{
 "cells": [
  {
   "cell_type": "code",
   "execution_count": 9,
   "metadata": {},
   "outputs": [],
   "source": [
    "import z3\n",
    "from lib.ts import Ts\n",
    "from lib.prove import prove_inductive, prove\n",
    "from lib.state_machine import smart_contract_state_machine"
   ]
  },
  {
   "cell_type": "code",
   "execution_count": 10,
   "metadata": {},
   "outputs": [],
   "source": [
    "\n",
    "statemachine = smart_contract_state_machine('Crowdsale')\n",
    "state, stateOut = statemachine.add_state(\"state\", z3.BitVecSort(2))\n",
    "deposits, depositsOut = statemachine.add_state(\"deposits\", z3.ArraySort(z3.BitVecSort(256), z3.BitVecSort(256)))\n",
    "totalDeposits, totalDepositsOut = statemachine.add_state(\"totalDeposits\", z3.BitVecSort(256))\n",
    "raised, raisedOut = statemachine.add_state(\"raised\", z3.BitVecSort(256))\n",
    "\n",
    "\n",
    "GOAL = 10000\n",
    "CLOSETIME = 10000\n",
    "now = z3.BitVec('now', 256)\n",
    "\n",
    "\n",
    "OPEN = 0\n",
    "SUCCESS = 1\n",
    "REFUND = 2\n",
    "\n",
    "\n",
    "\n"
   ]
  },
  {
   "cell_type": "code",
   "execution_count": 11,
   "metadata": {},
   "outputs": [],
   "source": [
    "p = z3.BitVec('p',256)\n",
    "\n",
    "\n",
    "statemachine.set_init(z3.And(\n",
    "    z3.ForAll(p, deposits[p]==0),\n",
    "    raised == 0,\n",
    "    totalDeposits == 0,\n",
    "    state == OPEN,\n",
    "))\n",
    "\n",
    "\n",
    "\n",
    "value = z3.BitVec('amount',256)\n",
    "\n",
    "statemachine.add_tr(\n",
    "    tr_name = \"invest\",\n",
    "    parameters = (value, ),\n",
    "    guard = z3.And(# now <= CLOSETIME,\n",
    "                   raised < GOAL,\n",
    "                   ),\n",
    "    transfer_func = z3.And(stateOut == state,\n",
    "                           raisedOut == raised + value,\n",
    "                           depositsOut == z3.Update(deposits,p,deposits[p]+value),\n",
    "                           totalDepositsOut == totalDeposits+value,\n",
    "                        )\n",
    ")\n",
    "\n",
    "statemachine.add_tr(\n",
    "    tr_name = \"close_success\",\n",
    "    parameters = None,\n",
    "    guard = z3.And(raised >= GOAL,\n",
    "                   ),\n",
    "    transfer_func = z3.And(depositsOut == deposits,\n",
    "                           raisedOut == raised,\n",
    "                           totalDepositsOut == totalDeposits,\n",
    "                           stateOut == SUCCESS,\n",
    "                        )\n",
    ")\n",
    "\n",
    "statemachine.add_tr(\n",
    "    tr_name = \"close_refund\",\n",
    "    parameters = None,\n",
    "    guard = z3.And(now > CLOSETIME,\n",
    "                   raised < GOAL,\n",
    "                   ),\n",
    "    transfer_func = z3.And(stateOut == REFUND,\n",
    "                           depositsOut == deposits,\n",
    "                           raisedOut == raised,\n",
    "                           totalDepositsOut == totalDeposits,\n",
    "                        )\n",
    ")\n",
    "\n",
    "p = z3.BitVec('p',256)\n",
    "statemachine.add_tr(\n",
    "    tr_name = \"claimrefund\",\n",
    "    parameters = (p, ),\n",
    "    guard = z3.And(state == REFUND,\n",
    "                   raised < GOAL,\n",
    "                   ),\n",
    "    transfer_func = z3.And(depositsOut == z3.Update(deposits,p,0),\n",
    "                           totalDepositsOut == totalDeposits - deposits[p],\n",
    "                           raisedOut == raised,\n",
    "                           stateOut == state,\n",
    "                        )\n",
    ")\n",
    "\n",
    "\n",
    "statemachine.add_tr(\n",
    "    tr_name = \"withdraw\",\n",
    "    parameters = None,\n",
    "    guard = z3.And(state == SUCCESS,\n",
    "                   ),\n",
    "    transfer_func = z3.And(totalDepositsOut == 0,\n",
    "                           depositsOut == deposits,\n",
    "                           raisedOut == raised,\n",
    "                           stateOut == state,\n",
    "                        )\n",
    ")\n",
    "\n"
   ]
  },
  {
   "cell_type": "code",
   "execution_count": 12,
   "metadata": {},
   "outputs": [
    {
     "name": "stdout",
     "output_type": "stream",
     "text": [
      "accept\n",
      "reject\n"
     ]
    }
   ],
   "source": [
    "# print(statemachine.now_state)\n",
    "# statemachine.transfer(\"invest\", amount == 100)\n",
    "# print(statemachine.now_state)\n",
    "\n",
    "trace = [\n",
    "    ('close_refund', now == CLOSETIME + 1),\n",
    "    ('claimrefund', p == 0x114514, now == CLOSETIME + 2),\n",
    "    ('invest', value == GOAL+1, now == CLOSETIME + 3),\n",
    "    ('close_success', now == CLOSETIME + 4),\n",
    "    ('withdraw', now == CLOSETIME + 5),\n",
    "]\n",
    "\n",
    "statemachine.simulate(trace, show_log=False)\n",
    "statemachine.add_guard('invest', now <= CLOSETIME)\n",
    "# statemachine.simulate(trace, show_log=True)\n",
    "statemachine.simulate(trace, show_log=False)\n"
   ]
  }
 ],
 "metadata": {
  "kernelspec": {
   "display_name": "Python 3",
   "language": "python",
   "name": "python3"
  },
  "language_info": {
   "codemirror_mode": {
    "name": "ipython",
    "version": 3
   },
   "file_extension": ".py",
   "mimetype": "text/x-python",
   "name": "python",
   "nbconvert_exporter": "python",
   "pygments_lexer": "ipython3",
   "version": "3.11.4"
  },
  "orig_nbformat": 4,
  "vscode": {
   "interpreter": {
    "hash": "949777d72b0d2535278d3dc13498b2535136f6dfe0678499012e853ee9abcab1"
   }
  }
 },
 "nbformat": 4,
 "nbformat_minor": 2
}
